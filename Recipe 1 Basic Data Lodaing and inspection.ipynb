{
 "cells": [
  {
   "cell_type": "markdown",
   "id": "4f2ab577",
   "metadata": {},
   "source": [
    "Recipe 1: Basic Data Lodaing and inspection"
   ]
  },
  {
   "cell_type": "markdown",
   "id": "fa7258a6",
   "metadata": {},
   "source": [
    "Let's learn How to load a dataset into a pandas DataFrame and preform basic inspections."
   ]
  },
  {
   "cell_type": "code",
   "execution_count": null,
   "id": "48a59670",
   "metadata": {},
   "outputs": [],
   "source": [
    "import pandas as pd\n",
    "#The code import pandas as pd is a common way to import the Python library called Pandas and give it the alias pd.\n",
    "\n",
    "#import pandas: This line tells Python to bring in the Pandas library so that we can use its functionality in our\n",
    "#code.\n",
    "#as pd: This part of the code assigns the alias pd to the Pandas library. Using pd as an alias is a widely adopted \n",
    "#convention and makes it easier to reference Pandas functions and objects throughout your code without having to\n",
    "#type the full name \"pandas\" each time."
   ]
  },
  {
   "cell_type": "code",
   "execution_count": null,
   "id": "ef2af0b5",
   "metadata": {},
   "outputs": [],
   "source": [
    "#Now let's load data from a CSV file\n",
    "df= pd.read_csv(\"your_dataset.csv\")\n",
    "#df: This is the variable that will hold the DataFrame created from the CSV data\n",
    "#pd: This is the alias assigned to the Pandas library when it was imported using import pandas as pd. It's a common convention to use pd as an alias.\n",
    "\n",
    "#read_csv(): This is a function provided by Pandas for reading data from CSV (Comma-Separated Values) files.\n",
    "\n",
    "#\"your_dataset.csv\": This is the path to the CSV file that you want to read. You should replace with the name of csv you have "
   ]
  },
  {
   "cell_type": "code",
   "execution_count": null,
   "id": "29f17c78",
   "metadata": {},
   "outputs": [],
   "source": [
    "print(df.head())\n",
    "#The print(df.head()) statement is used to display the first few rows of the DataFrame df.\n",
    "\n",
    "# df: This is the DataFrame that was created by reading data from a CSV file using pd.read_csv(\"your_dataset.csv\").\n",
    "\n",
    "# head(): This is a method provided by Pandas for DataFrames, and it is used to display the first few rows of the DataFrame."
   ]
  },
  {
   "cell_type": "code",
   "execution_count": null,
   "id": "1b89ca9d",
   "metadata": {},
   "outputs": [],
   "source": [
    "print(df.info())\n",
    "#This print(df.info()) statement is used to display a concise summary of the DataFrame df, including information about its structure, data types, and memory usage.\n",
    "\n",
    "# df: This is the DataFrame that you want to inspect.\n",
    "\n",
    "# .info(): This is a method provided by Pandas for DataFrames. When called, it provides a concise summary of the DataFrame.\n",
    "\n",
    "#print(): The print function is used to display the information on the console."
   ]
  },
  {
   "cell_type": "code",
   "execution_count": null,
   "id": "d1e9c42d",
   "metadata": {},
   "outputs": [],
   "source": [
    "print(df.describe())\n",
    "#.describe(): This is a method provided by Pandas for DataFrames. When called, \n",
    "#it generates summary statistics of the numerical columns in the DataFrame, such as mean, standard deviation, \n",
    "# minimum, 25th percentile (Q1), median (50th percentile or Q2), 75th percentile (Q3), and maximum.\n",
    "# print(): The print function is used to display the output on the console."
   ]
  }
 ],
 "metadata": {
  "kernelspec": {
   "display_name": "Python 3 (ipykernel)",
   "language": "python",
   "name": "python3"
  },
  "language_info": {
   "codemirror_mode": {
    "name": "ipython",
    "version": 3
   },
   "file_extension": ".py",
   "mimetype": "text/x-python",
   "name": "python",
   "nbconvert_exporter": "python",
   "pygments_lexer": "ipython3",
   "version": "3.8.10"
  }
 },
 "nbformat": 4,
 "nbformat_minor": 5
}
