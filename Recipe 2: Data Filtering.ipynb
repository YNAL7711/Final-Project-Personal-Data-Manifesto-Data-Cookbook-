{
 "cells": [
  {
   "cell_type": "markdown",
   "id": "9d1f2c44",
   "metadata": {},
   "source": [
    "Recipe 2: Data Filtering"
   ]
  },
  {
   "cell_type": "markdown",
   "id": "d73eb37e",
   "metadata": {},
   "source": [
    "We will learn how to filter data based on conditions in a Dataframe"
   ]
  },
  {
   "cell_type": "code",
   "execution_count": null,
   "id": "df78d81f",
   "metadata": {},
   "outputs": [],
   "source": [
    "import pandas as pd\n",
    "#we will assume that df is our Dataframe\n",
    "#df=pd.read_csv(\"your_dataset.csv\")"
   ]
  },
  {
   "cell_type": "code",
   "execution_count": null,
   "id": "4d8fb6fb",
   "metadata": {},
   "outputs": [],
   "source": [
    "## Let's Filter the DataFrame 'df' to create a new DataFrame 'filtered_df'\n",
    "# we will Select only rows where the value in the \"Age\" column is greater than 30\n",
    "filtered_df = df[df[\"Age\"] > 30]\n"
   ]
  },
  {
   "cell_type": "code",
   "execution_count": null,
   "id": "af8667a8",
   "metadata": {},
   "outputs": [],
   "source": [
    "print(filtered_df)\n",
    "#this code will display the contents of the DataFrame filtered_df on the console. \n",
    "#This DataFrame will only include rows from the original DataFrame df where the value in the \"Age\" column is greater\n",
    "#than 30, as per the filtering condition applied earlier."
   ]
  }
 ],
 "metadata": {
  "kernelspec": {
   "display_name": "Python 3 (ipykernel)",
   "language": "python",
   "name": "python3"
  },
  "language_info": {
   "codemirror_mode": {
    "name": "ipython",
    "version": 3
   },
   "file_extension": ".py",
   "mimetype": "text/x-python",
   "name": "python",
   "nbconvert_exporter": "python",
   "pygments_lexer": "ipython3",
   "version": "3.8.10"
  }
 },
 "nbformat": 4,
 "nbformat_minor": 5
}
