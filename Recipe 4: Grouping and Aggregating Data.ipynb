{
 "cells": [
  {
   "cell_type": "markdown",
   "id": "c6a7447f",
   "metadata": {},
   "source": [
    "Recipe 4: Grouping and Aggregating Data"
   ]
  },
  {
   "cell_type": "markdown",
   "id": "e2ba4450",
   "metadata": {},
   "source": [
    "We will learn how to perform aggregate functions like mean or sum."
   ]
  },
  {
   "cell_type": "code",
   "execution_count": 1,
   "id": "ef235535",
   "metadata": {},
   "outputs": [],
   "source": [
    "import pandas as pd"
   ]
  },
  {
   "cell_type": "code",
   "execution_count": 2,
   "id": "4a3fbe5f",
   "metadata": {},
   "outputs": [],
   "source": [
    "df = pd.DataFrame({\n",
    "    \"Category\": [\"A\", \"B\", \"A\", \"C\", \"B\", \"C\", \"A\", \"B\"],\n",
    "    \"Values\": [10, 20, 15, 35, 25, 45, 5, 30]\n",
    "})\n",
    "#df = pd.DataFrame Creates a DataFrame named df using the pd.DataFrame constructor.\n",
    "#The DataFrame is initialized with a dictionary where keys are column names, \n",
    "#and values are lists containing data for each column.\n",
    "#\"Category\": A column named \"Category\" containing categorical data (letters \"A\", \"B\", or \"C\").\n",
    "#\"Values\": A column named \"Values\" containing numerical data.\n"
   ]
  },
  {
   "cell_type": "code",
   "execution_count": 3,
   "id": "02607587",
   "metadata": {},
   "outputs": [],
   "source": [
    "#Grouping and aggregating\n",
    "grouped_df= df.groupby(\"Category\").sum()\n",
    "#df.groupby(\"Category\"): This part groups the DataFrame df by the values in the \"Category\" column. It essentially creates separate groups for each unique value in the \"Category\" column.\n",
    "\n",
    "#.sum(): This part performs the aggregation operation on each group. In this case, it calculates the sum of values for each group. It computes the sum of the \"Values\" column within each group.\n",
    "\n",
    "#grouped_df: The result is a new DataFrame called grouped_df that contains the unique categories as the index and the sum of values for each category in a column."
   ]
  },
  {
   "cell_type": "code",
   "execution_count": 4,
   "id": "422d4365",
   "metadata": {},
   "outputs": [
    {
     "name": "stdout",
     "output_type": "stream",
     "text": [
      "          Values\n",
      "Category        \n",
      "A             30\n",
      "B             75\n",
      "C             80\n"
     ]
    }
   ],
   "source": [
    "#Displaying the grouped DataFrame\n",
    "print(grouped_df)\n",
    "##This code will just display the contents of the grouped DataFrame 'grouped_df'"
   ]
  },
  {
   "cell_type": "code",
   "execution_count": null,
   "id": "048ab2a9",
   "metadata": {},
   "outputs": [],
   "source": []
  }
 ],
 "metadata": {
  "kernelspec": {
   "display_name": "Python 3 (ipykernel)",
   "language": "python",
   "name": "python3"
  },
  "language_info": {
   "codemirror_mode": {
    "name": "ipython",
    "version": 3
   },
   "file_extension": ".py",
   "mimetype": "text/x-python",
   "name": "python",
   "nbconvert_exporter": "python",
   "pygments_lexer": "ipython3",
   "version": "3.8.10"
  }
 },
 "nbformat": 4,
 "nbformat_minor": 5
}
